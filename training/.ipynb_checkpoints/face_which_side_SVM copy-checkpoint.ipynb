{
 "cells": [
  {
   "cell_type": "code",
   "execution_count": 1,
   "metadata": {},
   "outputs": [],
   "source": [
    "import os\n",
    "import cv2\n",
    "from skimage.feature import hog\n",
    "import numpy as np\n",
    "import pandas as pd\n",
    "import pickle\n",
    "import time\n",
    "import dlib\n",
    "import cvlib as cv"
   ]
  },
  {
   "cell_type": "code",
   "execution_count": 2,
   "metadata": {},
   "outputs": [
    {
     "name": "stdout",
     "output_type": "stream",
     "text": [
      "         0         1         2         3         4         5         6     \\\n",
      "0    0.353553  0.353553  0.353553  0.353553  0.353553  0.353553  0.353553   \n",
      "1    0.427585  0.427585  0.427585  0.051007  0.427585  0.288538  0.427585   \n",
      "2    0.258766  0.146506  0.462053  0.462053  0.462053  0.462053  0.232518   \n",
      "3    0.681456  0.182604  0.119314  0.040051  0.068981  0.043858  0.123979   \n",
      "4    0.371440  0.371440  0.371440  0.185006  0.371440  0.371440  0.371440   \n",
      "..        ...       ...       ...       ...       ...       ...       ...   \n",
      "371  0.389259  0.271453  0.389259  0.389259  0.389259  0.389259  0.389259   \n",
      "372  0.456950  0.309601  0.456950  0.276864  0.456950  0.272928  0.323463   \n",
      "373  0.479685  0.092447  0.191400  0.135000  0.455917  0.285978  0.432152   \n",
      "374  0.392692  0.209742  0.392692  0.175401  0.392692  0.392692  0.392692   \n",
      "375  0.395436  0.395436  0.395436  0.300565  0.395436  0.292034  0.395436   \n",
      "\n",
      "         7         8         9     ...      1142      1143      1144  \\\n",
      "0    0.353553  0.370270  0.349182  ...  0.446852  0.446852  0.367422   \n",
      "1    0.000000  0.444535  0.094889  ...  0.400225  0.400225  0.439252   \n",
      "2    0.059498  0.390262  0.038127  ...  0.206448  0.242997  0.419438   \n",
      "3    0.681456  0.388678  0.257207  ...  0.347121  0.528595  0.371304   \n",
      "4    0.371440  0.337779  0.449540  ...  0.295670  0.253928  0.356571   \n",
      "..        ...       ...       ...  ...       ...       ...       ...   \n",
      "371  0.131060  0.435540  0.435540  ...  0.363555  0.232539  0.396321   \n",
      "372  0.148205  0.548972  0.574417  ...  0.353553  0.353553  0.385577   \n",
      "373  0.479685  0.361906  0.361906  ...  0.368124  0.226702  0.366071   \n",
      "374  0.392692  0.445897  0.244959  ...  0.190817  0.146382  0.577304   \n",
      "375  0.206221  0.544910  0.544910  ...  0.323645  0.273623  0.310015   \n",
      "\n",
      "         1145      1146      1147      1148      1149      1150      1151  \n",
      "0    0.367422  0.256611  0.352361  0.367422  0.367422  0.367422  0.367422  \n",
      "1    0.172720  0.439252  0.073880  0.439252  0.439252  0.439252  0.000000  \n",
      "2    0.419438  0.419438  0.419438  0.419438  0.207500  0.139804  0.240323  \n",
      "3    0.371304  0.371304  0.186898  0.371304  0.371304  0.371304  0.371304  \n",
      "4    0.356571  0.356571  0.331661  0.356571  0.356571  0.356571  0.356571  \n",
      "..        ...       ...       ...       ...       ...       ...       ...  \n",
      "371  0.396321  0.396321  0.347389  0.386987  0.211971  0.396321  0.237382  \n",
      "372  0.385577  0.385577  0.277793  0.385577  0.240332  0.385577  0.348886  \n",
      "373  0.366071  0.366071  0.366071  0.265741  0.354025  0.366071  0.366071  \n",
      "374  0.577304  0.204116  0.190181  0.236688  0.082578  0.315615  0.305213  \n",
      "375  0.273567  0.372700  0.372700  0.372700  0.372700  0.372700  0.366776  \n",
      "\n",
      "[376 rows x 1152 columns]\n",
      "0      0\n",
      "1      0\n",
      "2      0\n",
      "3      0\n",
      "4      0\n",
      "      ..\n",
      "371    4\n",
      "372    4\n",
      "373    4\n",
      "374    4\n",
      "375    4\n",
      "Name: Target, Length: 376, dtype: int32\n"
     ]
    }
   ],
   "source": [
    "categories = [\"down\", \"front\", \"left\", \"right\", \"up\"]\n",
    "flat_data_arr = []\n",
    "target_arr = []\n",
    "datadir = \"C:\\\\Users\\\\nites\\\\OneDrive\\\\Desktop\\\\proctoring_software\\\\Dataset_for_student_registration\"\n",
    "\n",
    "for i in categories:\n",
    "    path = os.path.join(datadir, i)\n",
    "    for img in os.listdir(path):\n",
    "        img_array = cv2.imread(os.path.join(path, img))\n",
    "        h, w, _ = img_array.shape\n",
    "        resized_img = cv2.resize(img_array, (200, 200))\n",
    "        fd, _ = hog(resized_img, orientations=8, pixels_per_cell=(16, 16),\n",
    "            cells_per_block=(1, 1), visualize=True, channel_axis=-1)\n",
    "        flat_data_arr.append(fd)\n",
    "        target_arr.append(categories.index(i))\n",
    "        \n",
    "flat_data = np.array(flat_data_arr)\n",
    "target = np.array(target_arr)\n",
    "df = pd.DataFrame(flat_data)\n",
    "df['Target'] = target\n",
    "x = df.iloc[:, :-1]\n",
    "y = df.iloc[:,-1]\n",
    "print(x)\n",
    "print(y)"
   ]
  },
  {
   "cell_type": "code",
   "execution_count": 3,
   "metadata": {},
   "outputs": [
    {
     "name": "stdout",
     "output_type": "stream",
     "text": [
      "(376, 1152)\n",
      "(376,)\n"
     ]
    }
   ],
   "source": [
    "print(x.shape)\n",
    "print(y.shape)"
   ]
  },
  {
   "cell_type": "code",
   "execution_count": 4,
   "metadata": {},
   "outputs": [],
   "source": [
    "from sklearn import svm\n",
    "from sklearn.model_selection import GridSearchCV\n",
    "param_grid={'C':[0.1,1,10,100],'gamma':[0.0001,0.001,0.1,1],'kernel':['rbf','poly']}\n",
    "svc=svm.SVC(probability=True)\n",
    "model=GridSearchCV(svc,param_grid)"
   ]
  },
  {
   "cell_type": "code",
   "execution_count": 5,
   "metadata": {},
   "outputs": [],
   "source": [
    "from sklearn.model_selection import train_test_split\n",
    "#from sklearn.preprocessing import MinMaxScaler\n",
    "\n",
    "x_train, x_test, y_train, y_test = train_test_split(x, y, test_size = 0.20, stratify = y)\n",
    "# scaler = MinMaxScaler()\n",
    "# scaler.fit(x_train)\n",
    "# x_train = scaler.transform(x_train)\n",
    "# x_test = scaler.transform(x_test)\n"
   ]
  },
  {
   "cell_type": "code",
   "execution_count": 6,
   "metadata": {},
   "outputs": [
    {
     "name": "stdout",
     "output_type": "stream",
     "text": [
      "(300, 1152)\n"
     ]
    }
   ],
   "source": [
    "print(x_train.shape)"
   ]
  },
  {
   "cell_type": "code",
   "execution_count": 7,
   "metadata": {},
   "outputs": [
    {
     "data": {
      "text/plain": [
       "GridSearchCV(estimator=SVC(probability=True),\n",
       "             param_grid={'C': [0.1, 1, 10, 100],\n",
       "                         'gamma': [0.0001, 0.001, 0.1, 1],\n",
       "                         'kernel': ['rbf', 'poly']})"
      ]
     },
     "execution_count": 7,
     "metadata": {},
     "output_type": "execute_result"
    }
   ],
   "source": [
    "model.fit(x_train, y_train)"
   ]
  },
  {
   "cell_type": "code",
   "execution_count": 8,
   "metadata": {},
   "outputs": [
    {
     "name": "stdout",
     "output_type": "stream",
     "text": [
      "Accuracy score 100.0\n"
     ]
    }
   ],
   "source": [
    "from sklearn.metrics import accuracy_score\n",
    "y_pred = model.predict(x_test)\n",
    "print(\"Accuracy score\", accuracy_score(y_pred, y_test) * 100)"
   ]
  },
  {
   "cell_type": "code",
   "execution_count": 9,
   "metadata": {},
   "outputs": [],
   "source": [
    "y_test_arr = np.array(y_test)"
   ]
  },
  {
   "cell_type": "code",
   "execution_count": 64,
   "metadata": {},
   "outputs": [
    {
     "name": "stdout",
     "output_type": "stream",
     "text": [
      "74\n",
      "76\n"
     ]
    }
   ],
   "source": [
    "correct = 0\n",
    "for i in range(len(y_pred)):\n",
    "    correct = correct + 1 if y_pred[i] == y_test_arr[i] else correct\n",
    "print(correct)\n",
    "print(len(y_pred))"
   ]
  },
  {
   "cell_type": "code",
   "execution_count": 12,
   "metadata": {},
   "outputs": [],
   "source": [
    "filepath = \"C:\\\\Users\\\\nites\\\\OneDrive\\\\Desktop\\\\proctoring_software\\\\model_new_no_normalization.sav\"\n",
    "pickle.dump(model, open(filepath, \"wb\"))"
   ]
  },
  {
   "cell_type": "code",
   "execution_count": 15,
   "metadata": {},
   "outputs": [],
   "source": [
    "filepath = \"C:\\\\Users\\\\nites\\\\OneDrive\\\\Desktop\\\\proctoring_software\\\\model_new_no_normalization.sav\"\n",
    "loaded_model = pickle.load(open(filepath, \"rb\"))\n"
   ]
  },
  {
   "cell_type": "code",
   "execution_count": null,
   "metadata": {},
   "outputs": [],
   "source": [
    "scaler_path = \"C:\\\\Users\\\\nites\\\\OneDrive\\\\Desktop\\\\proctoring_software\\\\scaler.obj\"\n",
    "pickle.dump(scaler, open(scaler_path, \"wb\"))"
   ]
  },
  {
   "cell_type": "code",
   "execution_count": 4,
   "metadata": {},
   "outputs": [],
   "source": [
    "scaler_path = \"C:\\\\Users\\\\nites\\\\OneDrive\\\\Desktop\\\\proctoring_software\\\\scaler.obj\"\n",
    "scaler_file = pickle.load(open(scaler_path, \"rb\"))"
   ]
  },
  {
   "cell_type": "markdown",
   "metadata": {},
   "source": [
    "MAKE SURE TO USE cv2.imread OUTSIDE THE FUNCTION AS THE FUNCTION TAKES IMAGE ARRAY AS AN ARGUMENT AND NOT THE PATH TO THE IMAGE"
   ]
  },
  {
   "cell_type": "code",
   "execution_count": 24,
   "metadata": {},
   "outputs": [],
   "source": [
    "#scaler_path = \"C:\\\\Users\\\\nites\\\\OneDrive\\\\Desktop\\\\proctoring_software\\\\scaler.obj\"\n",
    "#scaler_file = pickle.load(open(scaler_path, \"rb\"))\n",
    "categories = [\"down\", \"front\", \"left\", \"right\", \"up\"]\n",
    "\n",
    "def predict_label(model, img_array):\n",
    "    \n",
    "    img_resized = cv2.resize(img_array, (200, 200))\n",
    "\n",
    "    fd, _ = hog(img_resized, orientations=8, pixels_per_cell=(16, 16),\n",
    "                cells_per_block=(1, 1), visualize=True, channel_axis=-1)\n",
    "    \n",
    "    #data_arr = scaler_file.transform([fd])\n",
    "    probability = model.predict_proba([fd])\n",
    "    predicted_class = model.predict([fd])\n",
    "    predicted_class = predicted_class[0]\n",
    "    return categories[predicted_class], probability[0][predicted_class]"
   ]
  },
  {
   "cell_type": "code",
   "execution_count": 25,
   "metadata": {},
   "outputs": [
    {
     "name": "stdout",
     "output_type": "stream",
     "text": [
      "('down', 0.9346094303562799)\n",
      "INFERENCE TIME:  0.04828023910522461\n"
     ]
    }
   ],
   "source": [
    "initial_time = time.time()\n",
    "img = cv2.imread(\"Dataset_for_student_registration\\\\down\\\\img_5.jpg\")\n",
    "print(predict_label(loaded_model, img))\n",
    "final_time = time.time()\n",
    "print(\"INFERENCE TIME: \", final_time - initial_time)"
   ]
  },
  {
   "cell_type": "code",
   "execution_count": 26,
   "metadata": {},
   "outputs": [
    {
     "name": "stdout",
     "output_type": "stream",
     "text": [
      "[[146, 145, 336, 399]]\n",
      "[[145, 145, 336, 401]]\n",
      "[[146, 145, 336, 402]]\n",
      "[[146, 146, 336, 402]]\n",
      "[[147, 147, 336, 401]]\n",
      "[[146, 148, 336, 403]]\n",
      "[[145, 148, 336, 404]]\n",
      "[[145, 147, 336, 402]]\n",
      "[[144, 147, 336, 404]]\n",
      "[[143, 147, 335, 405]]\n",
      "[[143, 148, 335, 403]]\n",
      "[[143, 148, 335, 403]]\n",
      "[[143, 147, 336, 404]]\n",
      "[[143, 148, 336, 405]]\n",
      "[[143, 148, 336, 405]]\n",
      "[[143, 149, 336, 405]]\n",
      "[[143, 149, 336, 406]]\n",
      "[[143, 149, 336, 406]]\n",
      "[[143, 148, 336, 406]]\n",
      "[[143, 148, 337, 406]]\n",
      "[[143, 148, 337, 405]]\n",
      "[[143, 148, 337, 407]]\n",
      "[[143, 148, 337, 407]]\n",
      "[[143, 148, 337, 407]]\n",
      "[[143, 148, 337, 407]]\n",
      "[[143, 148, 337, 407]]\n",
      "[[142, 149, 337, 407]]\n",
      "[[142, 148, 337, 407]]\n",
      "[[143, 148, 337, 407]]\n",
      "[[143, 148, 336, 407]]\n",
      "[[143, 148, 336, 407]]\n",
      "[[143, 147, 337, 407]]\n",
      "[[143, 147, 336, 407]]\n",
      "[[143, 148, 336, 407]]\n",
      "[[143, 148, 336, 407]]\n",
      "[[142, 148, 336, 407]]\n",
      "[[142, 148, 336, 407]]\n",
      "[[142, 150, 335, 407]]\n",
      "[[142, 150, 335, 407]]\n",
      "[[142, 149, 335, 407]]\n",
      "[[142, 149, 336, 407]]\n",
      "[[143, 148, 337, 407]]\n",
      "[[143, 149, 337, 406]]\n",
      "[[148, 153, 338, 404]]\n",
      "[[149, 151, 339, 404]]\n"
     ]
    }
   ],
   "source": [
    "cap = cv2.VideoCapture(0)\n",
    "\n",
    "while True:\n",
    "    _, frame = cap.read()\n",
    "    \n",
    "\n",
    "    face_locations, _ = cv.detect_face(frame, threshold = 0.3)\n",
    "#cropped_image = frame\n",
    "    print(face_locations)\n",
    "    left, top, right, bottom = face_locations[0]\n",
    "    cropped_image = frame[top:bottom, left:right]\n",
    "#cropped_image = cv2.resize(cropped_image, (400, 400))\n",
    "    prediction_label, prediction_probability = predict_label(loaded_model, cropped_image)\n",
    "    if face_locations != None:\n",
    "        cv2.putText(frame, str(face_locations), (100, 100), cv2.FONT_HERSHEY_COMPLEX, 1, (150, 200, 30), 2)\n",
    "    else:\n",
    "        cv2.putText(frame, \"FACE NOT DETECTED\", (200, 500), cv2.FONT_HERSHEY_PLAIN, 2, (150, 200, 30), 2)\n",
    "    #print(prediction_probability)\n",
    "    #cv2.putText(frame, prediction_label, (100, 100), cv2.FONT_HERSHEY_SIMPLEX, 2, (0, 200, 200), 3)\n",
    "    #cv2.putText(frame, str(prediction_probability), (100, 150), cv2.FONT_HERSHEY_SIMPLEX, 2, (0,0, 0), 3)\n",
    "    \n",
    "\n",
    "        #cv2.putText(frame, \"FACE NOT DETECTED\", (200, 500), cv2.FONT_HERSHEY_PLAIN, 2, (150, 200, 30), 2)\n",
    "    cv2.imshow(\"Image\", frame)\n",
    "    if cv2.waitKey(1) & 0xFF == ord(\"q\"):\n",
    "        break\n",
    "cv2.destroyAllWindows()\n",
    "cap.release()"
   ]
  }
 ],
 "metadata": {
  "kernelspec": {
   "display_name": "Python 3 (ipykernel)",
   "language": "python",
   "name": "python3"
  },
  "language_info": {
   "codemirror_mode": {
    "name": "ipython",
    "version": 3
   },
   "file_extension": ".py",
   "mimetype": "text/x-python",
   "name": "python",
   "nbconvert_exporter": "python",
   "pygments_lexer": "ipython3",
   "version": "3.8.10"
  },
  "vscode": {
   "interpreter": {
    "hash": "56412660b037274d686266c65699192c47fe0cde2b795cf57673260ecc54f434"
   }
  }
 },
 "nbformat": 4,
 "nbformat_minor": 2
}
